{
 "cells": [
  {
   "cell_type": "code",
   "execution_count": 16,
   "id": "00e3fb26",
   "metadata": {
    "collapsed": true
   },
   "outputs": [
    {
     "name": "stdout",
     "output_type": "stream",
     "text": [
      "Collecting pyspellchecker\n",
      "  Downloading pyspellchecker-0.7.1-py3-none-any.whl (2.5 MB)\n",
      "     ---------------------------------------- 2.5/2.5 MB 4.7 MB/s eta 0:00:00\n",
      "Installing collected packages: pyspellchecker\n",
      "Successfully installed pyspellchecker-0.7.1\n"
     ]
    },
    {
     "name": "stderr",
     "output_type": "stream",
     "text": [
      "WARNING: Ignoring invalid distribution -ransformers (c:\\users\\aditi\\anaconda3\\lib\\site-packages)\n",
      "WARNING: Ignoring invalid distribution -ransformers (c:\\users\\aditi\\anaconda3\\lib\\site-packages)\n",
      "WARNING: Ignoring invalid distribution -ransformers (c:\\users\\aditi\\anaconda3\\lib\\site-packages)\n",
      "WARNING: Ignoring invalid distribution -ransformers (c:\\users\\aditi\\anaconda3\\lib\\site-packages)\n",
      "WARNING: Ignoring invalid distribution -ransformers (c:\\users\\aditi\\anaconda3\\lib\\site-packages)\n",
      "WARNING: Ignoring invalid distribution -ransformers (c:\\users\\aditi\\anaconda3\\lib\\site-packages)\n",
      "WARNING: Ignoring invalid distribution -ransformers (c:\\users\\aditi\\anaconda3\\lib\\site-packages)\n"
     ]
    }
   ],
   "source": [
    "\n",
    "! pip install pyspellchecker"
   ]
  },
  {
   "cell_type": "code",
   "execution_count": 22,
   "id": "0bf052c6",
   "metadata": {},
   "outputs": [
    {
     "name": "stdout",
     "output_type": "stream",
     "text": [
      "The AUTOCORRECT suggestions are Mis-spelled words are {'carreer.': 'career', 'scienttist': 'scientist'}\n",
      "Data scientist is a very promising career\n"
     ]
    }
   ],
   "source": [
    "from spellchecker import SpellChecker\n",
    "\n",
    "spell = SpellChecker()\n",
    "\n",
    "text = \"Data scienttist is a very promising carreer.\"\n",
    "\n",
    "dict_of_autocorrect_words = {}\n",
    "for i in spell.unknown(text.split()):\n",
    "    dict_of_autocorrect_words[i] = spell.correction(i)\n",
    "\n",
    "print(f'The AUTOCORRECT suggestions are Mis-spelled words are {dict_of_autocorrect_words}')\n",
    "\n",
    "temp = text.split()\n",
    "res = []\n",
    "for wrd in temp:\n",
    "      \n",
    "    res.append(dict_of_autocorrect_words.get(wrd, wrd))\n",
    "      \n",
    "res = ' '.join(res)\n",
    "\n",
    "print(res)\n"
   ]
  },
  {
   "cell_type": "code",
   "execution_count": null,
   "id": "9378eaec",
   "metadata": {},
   "outputs": [],
   "source": []
  }
 ],
 "metadata": {
  "kernelspec": {
   "display_name": "Python 3 (ipykernel)",
   "language": "python",
   "name": "python3"
  },
  "language_info": {
   "codemirror_mode": {
    "name": "ipython",
    "version": 3
   },
   "file_extension": ".py",
   "mimetype": "text/x-python",
   "name": "python",
   "nbconvert_exporter": "python",
   "pygments_lexer": "ipython3",
   "version": "3.10.9"
  }
 },
 "nbformat": 4,
 "nbformat_minor": 5
}
